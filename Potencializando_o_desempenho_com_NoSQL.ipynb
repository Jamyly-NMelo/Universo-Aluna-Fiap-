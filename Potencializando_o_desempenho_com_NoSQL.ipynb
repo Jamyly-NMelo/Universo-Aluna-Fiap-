{
  "nbformat": 4,
  "nbformat_minor": 0,
  "metadata": {
    "colab": {
      "provenance": [],
      "authorship_tag": "ABX9TyN9XLvQ43SoXT7M3almDzve",
      "include_colab_link": true
    },
    "kernelspec": {
      "name": "python3",
      "display_name": "Python 3"
    },
    "language_info": {
      "name": "python"
    }
  },
  "cells": [
    {
      "cell_type": "markdown",
      "metadata": {
        "id": "view-in-github",
        "colab_type": "text"
      },
      "source": [
        "<a href=\"https://colab.research.google.com/github/Jamyly-NMelo/Universo-Aluna-Fiap/blob/main/Potencializando_o_desempenho_com_NoSQL.ipynb\" target=\"_parent\"><img src=\"https://colab.research.google.com/assets/colab-badge.svg\" alt=\"Open In Colab\"/></a>"
      ]
    },
    {
      "cell_type": "code",
      "source": [
        "import numpy as np\n",
        "import sympy as smp\n",
        "import pandas as pd\n",
        "import matplotlib.pyplot as plt\n",
        "import statsmodels.formula.api as sm"
      ],
      "metadata": {
        "id": "aaAfO6SAWx43"
      },
      "execution_count": null,
      "outputs": []
    },
    {
      "cell_type": "code",
      "source": [
        "vendas_2019 = pd.read_csv('/content/vendas_linha_petshop_2019.csv',\n",
        "    sep = ';',\n",
        "    encoding ='latin1',\n",
        "    decimal =',')"
      ],
      "metadata": {
        "id": "jm8j0G4kW7F7"
      },
      "execution_count": null,
      "outputs": []
    },
    {
      "cell_type": "code",
      "source": [
        "vendas_2020 = pd.read_csv('/content/vendas_linha_petshop_2020.csv',\n",
        "                              sep = ';',\n",
        "                              encoding='latin1',\n",
        "                              decimal=',')"
      ],
      "metadata": {
        "id": "55zWo3EPbfBs"
      },
      "execution_count": null,
      "outputs": []
    },
    {
      "cell_type": "code",
      "source": [
        "vendas_2021 = pd.read_csv('/content/vendas_linha_petshop_2021.csv',\n",
        "                              sep = ';',\n",
        "                              encoding='latin1',\n",
        "                              decimal=',')"
      ],
      "metadata": {
        "id": "KtXS7S_gXAwp"
      },
      "execution_count": null,
      "outputs": []
    },
    {
      "cell_type": "code",
      "source": [
        "vendas_2022 = pd.read_csv('/content/vendas_linha_petshop_2022.csv',\n",
        "                              sep = ';',\n",
        "                              encoding='latin1',\n",
        "                              decimal=',')"
      ],
      "metadata": {
        "id": "nI-FyEXbcs4F"
      },
      "execution_count": null,
      "outputs": []
    },
    {
      "cell_type": "code",
      "source": [
        "#Concatenar as 4 tabelas\n",
        "vendas = pd.concat([vendas_2019, vendas_2020, vendas_2021, vendas_2022], ignore_index=True)\n",
        "vendas"
      ],
      "metadata": {
        "colab": {
          "base_uri": "https://localhost:8080/",
          "height": 843
        },
        "id": "eF9hP9xyfI2f",
        "outputId": "266b081e-cafb-47a0-f772-17ad102a382d"
      },
      "execution_count": null,
      "outputs": [
        {
          "output_type": "execute_result",
          "data": {
            "text/plain": [
              "        cod_pedido   regiao_pais                       produto  valor  \\\n",
              "0                1         Norte  Biscoito  True Champion 300g  22.00   \n",
              "1                2         Norte  Biscoito  True Champion 300g  21.00   \n",
              "2                3         Norte  Biscoito  True Champion 300g  22.00   \n",
              "3                4         Norte  Biscoito  True Champion 300g  19.00   \n",
              "4                5         Norte  Biscoito  True Champion 300g  22.00   \n",
              "...            ...           ...                           ...    ...   \n",
              "157015      178938  Centro Oeste     Roupa para Cão Billaboard  61.56   \n",
              "157016      178939  Centro Oeste     Roupa para Cão Billaboard  48.60   \n",
              "157017      178940  Centro Oeste     Roupa para Cão Billaboard  51.84   \n",
              "157018      178941  Centro Oeste     Roupa para Cão Billaboard  56.70   \n",
              "157019      178942        Nordes                           NaN    NaN   \n",
              "\n",
              "       quantidade  valor_total_bruto        data               estado  \\\n",
              "0             2.0              44.00  13/06/2019                 Acre   \n",
              "1             2.0              42.00  03/01/2019                Amapá   \n",
              "2             NaN              44.00  18/01/2019                 Pará   \n",
              "3             4.0              88.00  19/08/2019             Rondônia   \n",
              "4             2.0              44.00  18/10/2019            Tocantins   \n",
              "...           ...                ...         ...                  ...   \n",
              "157015        NaN              61.56  11/02/2022                Goiás   \n",
              "157016        1.0              48.60  08/03/2022          Mato Grosso   \n",
              "157017        1.0              51.84  04/02/2022  Mato Grosso do  Sul   \n",
              "157018        1.0              56.70  08/01/2022     Distrito Federal   \n",
              "157019        NaN                NaN         NaN                  NaN   \n",
              "\n",
              "             formapagto centro_distribuicao responsavelpedido  valor_comissao  \\\n",
              "0              Dinheiro          Rapid Pink            Carlos            0.44   \n",
              "1                   Pix          Rapid Pink       Maria Linda            0.42   \n",
              "2       Boleto Bancário          Rapid Pink             Julia            0.88   \n",
              "3       Boleto Bancário          Rapid Pink              Yuri            0.76   \n",
              "4        Cartão Crédito          Rapid Pink           Dolores            0.44   \n",
              "...                 ...                 ...               ...             ...   \n",
              "157015  Boleto Bancário          Grãos Blue       Maria Clara            1.32   \n",
              "157016   Cartão Crédito          Grãos Blue          Andressa            0.99   \n",
              "157017  Boleto Bancário          Grãos Blue             Ligia            1.68   \n",
              "157018    Cartão Débito          Grãos Blue             Lucia            1.68   \n",
              "157019              NaN                 NaN               NaN             NaN   \n",
              "\n",
              "        lucro_liquido categoriaprod  \n",
              "0               17.60   Alimentação  \n",
              "1               16.80   Alimentação  \n",
              "2               35.20   Alimentação  \n",
              "3               30.40   Alimentação  \n",
              "4               17.60   Alimentação  \n",
              "...               ...           ...  \n",
              "157015          24.20     Acessório  \n",
              "157016          18.15     Acessório  \n",
              "157017          23.10     Acessório  \n",
              "157018          23.10     Acessório  \n",
              "157019            NaN           NaN  \n",
              "\n",
              "[157020 rows x 14 columns]"
            ],
            "text/html": [
              "\n",
              "  <div id=\"df-1115481b-7b26-4bdb-962e-8020ccb76d64\" class=\"colab-df-container\">\n",
              "    <div>\n",
              "<style scoped>\n",
              "    .dataframe tbody tr th:only-of-type {\n",
              "        vertical-align: middle;\n",
              "    }\n",
              "\n",
              "    .dataframe tbody tr th {\n",
              "        vertical-align: top;\n",
              "    }\n",
              "\n",
              "    .dataframe thead th {\n",
              "        text-align: right;\n",
              "    }\n",
              "</style>\n",
              "<table border=\"1\" class=\"dataframe\">\n",
              "  <thead>\n",
              "    <tr style=\"text-align: right;\">\n",
              "      <th></th>\n",
              "      <th>cod_pedido</th>\n",
              "      <th>regiao_pais</th>\n",
              "      <th>produto</th>\n",
              "      <th>valor</th>\n",
              "      <th>quantidade</th>\n",
              "      <th>valor_total_bruto</th>\n",
              "      <th>data</th>\n",
              "      <th>estado</th>\n",
              "      <th>formapagto</th>\n",
              "      <th>centro_distribuicao</th>\n",
              "      <th>responsavelpedido</th>\n",
              "      <th>valor_comissao</th>\n",
              "      <th>lucro_liquido</th>\n",
              "      <th>categoriaprod</th>\n",
              "    </tr>\n",
              "  </thead>\n",
              "  <tbody>\n",
              "    <tr>\n",
              "      <th>0</th>\n",
              "      <td>1</td>\n",
              "      <td>Norte</td>\n",
              "      <td>Biscoito  True Champion 300g</td>\n",
              "      <td>22.00</td>\n",
              "      <td>2.0</td>\n",
              "      <td>44.00</td>\n",
              "      <td>13/06/2019</td>\n",
              "      <td>Acre</td>\n",
              "      <td>Dinheiro</td>\n",
              "      <td>Rapid Pink</td>\n",
              "      <td>Carlos</td>\n",
              "      <td>0.44</td>\n",
              "      <td>17.60</td>\n",
              "      <td>Alimentação</td>\n",
              "    </tr>\n",
              "    <tr>\n",
              "      <th>1</th>\n",
              "      <td>2</td>\n",
              "      <td>Norte</td>\n",
              "      <td>Biscoito  True Champion 300g</td>\n",
              "      <td>21.00</td>\n",
              "      <td>2.0</td>\n",
              "      <td>42.00</td>\n",
              "      <td>03/01/2019</td>\n",
              "      <td>Amapá</td>\n",
              "      <td>Pix</td>\n",
              "      <td>Rapid Pink</td>\n",
              "      <td>Maria Linda</td>\n",
              "      <td>0.42</td>\n",
              "      <td>16.80</td>\n",
              "      <td>Alimentação</td>\n",
              "    </tr>\n",
              "    <tr>\n",
              "      <th>2</th>\n",
              "      <td>3</td>\n",
              "      <td>Norte</td>\n",
              "      <td>Biscoito  True Champion 300g</td>\n",
              "      <td>22.00</td>\n",
              "      <td>NaN</td>\n",
              "      <td>44.00</td>\n",
              "      <td>18/01/2019</td>\n",
              "      <td>Pará</td>\n",
              "      <td>Boleto Bancário</td>\n",
              "      <td>Rapid Pink</td>\n",
              "      <td>Julia</td>\n",
              "      <td>0.88</td>\n",
              "      <td>35.20</td>\n",
              "      <td>Alimentação</td>\n",
              "    </tr>\n",
              "    <tr>\n",
              "      <th>3</th>\n",
              "      <td>4</td>\n",
              "      <td>Norte</td>\n",
              "      <td>Biscoito  True Champion 300g</td>\n",
              "      <td>19.00</td>\n",
              "      <td>4.0</td>\n",
              "      <td>88.00</td>\n",
              "      <td>19/08/2019</td>\n",
              "      <td>Rondônia</td>\n",
              "      <td>Boleto Bancário</td>\n",
              "      <td>Rapid Pink</td>\n",
              "      <td>Yuri</td>\n",
              "      <td>0.76</td>\n",
              "      <td>30.40</td>\n",
              "      <td>Alimentação</td>\n",
              "    </tr>\n",
              "    <tr>\n",
              "      <th>4</th>\n",
              "      <td>5</td>\n",
              "      <td>Norte</td>\n",
              "      <td>Biscoito  True Champion 300g</td>\n",
              "      <td>22.00</td>\n",
              "      <td>2.0</td>\n",
              "      <td>44.00</td>\n",
              "      <td>18/10/2019</td>\n",
              "      <td>Tocantins</td>\n",
              "      <td>Cartão Crédito</td>\n",
              "      <td>Rapid Pink</td>\n",
              "      <td>Dolores</td>\n",
              "      <td>0.44</td>\n",
              "      <td>17.60</td>\n",
              "      <td>Alimentação</td>\n",
              "    </tr>\n",
              "    <tr>\n",
              "      <th>...</th>\n",
              "      <td>...</td>\n",
              "      <td>...</td>\n",
              "      <td>...</td>\n",
              "      <td>...</td>\n",
              "      <td>...</td>\n",
              "      <td>...</td>\n",
              "      <td>...</td>\n",
              "      <td>...</td>\n",
              "      <td>...</td>\n",
              "      <td>...</td>\n",
              "      <td>...</td>\n",
              "      <td>...</td>\n",
              "      <td>...</td>\n",
              "      <td>...</td>\n",
              "    </tr>\n",
              "    <tr>\n",
              "      <th>157015</th>\n",
              "      <td>178938</td>\n",
              "      <td>Centro Oeste</td>\n",
              "      <td>Roupa para Cão Billaboard</td>\n",
              "      <td>61.56</td>\n",
              "      <td>NaN</td>\n",
              "      <td>61.56</td>\n",
              "      <td>11/02/2022</td>\n",
              "      <td>Goiás</td>\n",
              "      <td>Boleto Bancário</td>\n",
              "      <td>Grãos Blue</td>\n",
              "      <td>Maria Clara</td>\n",
              "      <td>1.32</td>\n",
              "      <td>24.20</td>\n",
              "      <td>Acessório</td>\n",
              "    </tr>\n",
              "    <tr>\n",
              "      <th>157016</th>\n",
              "      <td>178939</td>\n",
              "      <td>Centro Oeste</td>\n",
              "      <td>Roupa para Cão Billaboard</td>\n",
              "      <td>48.60</td>\n",
              "      <td>1.0</td>\n",
              "      <td>48.60</td>\n",
              "      <td>08/03/2022</td>\n",
              "      <td>Mato Grosso</td>\n",
              "      <td>Cartão Crédito</td>\n",
              "      <td>Grãos Blue</td>\n",
              "      <td>Andressa</td>\n",
              "      <td>0.99</td>\n",
              "      <td>18.15</td>\n",
              "      <td>Acessório</td>\n",
              "    </tr>\n",
              "    <tr>\n",
              "      <th>157017</th>\n",
              "      <td>178940</td>\n",
              "      <td>Centro Oeste</td>\n",
              "      <td>Roupa para Cão Billaboard</td>\n",
              "      <td>51.84</td>\n",
              "      <td>1.0</td>\n",
              "      <td>51.84</td>\n",
              "      <td>04/02/2022</td>\n",
              "      <td>Mato Grosso do  Sul</td>\n",
              "      <td>Boleto Bancário</td>\n",
              "      <td>Grãos Blue</td>\n",
              "      <td>Ligia</td>\n",
              "      <td>1.68</td>\n",
              "      <td>23.10</td>\n",
              "      <td>Acessório</td>\n",
              "    </tr>\n",
              "    <tr>\n",
              "      <th>157018</th>\n",
              "      <td>178941</td>\n",
              "      <td>Centro Oeste</td>\n",
              "      <td>Roupa para Cão Billaboard</td>\n",
              "      <td>56.70</td>\n",
              "      <td>1.0</td>\n",
              "      <td>56.70</td>\n",
              "      <td>08/01/2022</td>\n",
              "      <td>Distrito Federal</td>\n",
              "      <td>Cartão Débito</td>\n",
              "      <td>Grãos Blue</td>\n",
              "      <td>Lucia</td>\n",
              "      <td>1.68</td>\n",
              "      <td>23.10</td>\n",
              "      <td>Acessório</td>\n",
              "    </tr>\n",
              "    <tr>\n",
              "      <th>157019</th>\n",
              "      <td>178942</td>\n",
              "      <td>Nordes</td>\n",
              "      <td>NaN</td>\n",
              "      <td>NaN</td>\n",
              "      <td>NaN</td>\n",
              "      <td>NaN</td>\n",
              "      <td>NaN</td>\n",
              "      <td>NaN</td>\n",
              "      <td>NaN</td>\n",
              "      <td>NaN</td>\n",
              "      <td>NaN</td>\n",
              "      <td>NaN</td>\n",
              "      <td>NaN</td>\n",
              "      <td>NaN</td>\n",
              "    </tr>\n",
              "  </tbody>\n",
              "</table>\n",
              "<p>157020 rows × 14 columns</p>\n",
              "</div>\n",
              "    <div class=\"colab-df-buttons\">\n",
              "\n",
              "  <div class=\"colab-df-container\">\n",
              "    <button class=\"colab-df-convert\" onclick=\"convertToInteractive('df-1115481b-7b26-4bdb-962e-8020ccb76d64')\"\n",
              "            title=\"Convert this dataframe to an interactive table.\"\n",
              "            style=\"display:none;\">\n",
              "\n",
              "  <svg xmlns=\"http://www.w3.org/2000/svg\" height=\"24px\" viewBox=\"0 -960 960 960\">\n",
              "    <path d=\"M120-120v-720h720v720H120Zm60-500h600v-160H180v160Zm220 220h160v-160H400v160Zm0 220h160v-160H400v160ZM180-400h160v-160H180v160Zm440 0h160v-160H620v160ZM180-180h160v-160H180v160Zm440 0h160v-160H620v160Z\"/>\n",
              "  </svg>\n",
              "    </button>\n",
              "\n",
              "  <style>\n",
              "    .colab-df-container {\n",
              "      display:flex;\n",
              "      gap: 12px;\n",
              "    }\n",
              "\n",
              "    .colab-df-convert {\n",
              "      background-color: #E8F0FE;\n",
              "      border: none;\n",
              "      border-radius: 50%;\n",
              "      cursor: pointer;\n",
              "      display: none;\n",
              "      fill: #1967D2;\n",
              "      height: 32px;\n",
              "      padding: 0 0 0 0;\n",
              "      width: 32px;\n",
              "    }\n",
              "\n",
              "    .colab-df-convert:hover {\n",
              "      background-color: #E2EBFA;\n",
              "      box-shadow: 0px 1px 2px rgba(60, 64, 67, 0.3), 0px 1px 3px 1px rgba(60, 64, 67, 0.15);\n",
              "      fill: #174EA6;\n",
              "    }\n",
              "\n",
              "    .colab-df-buttons div {\n",
              "      margin-bottom: 4px;\n",
              "    }\n",
              "\n",
              "    [theme=dark] .colab-df-convert {\n",
              "      background-color: #3B4455;\n",
              "      fill: #D2E3FC;\n",
              "    }\n",
              "\n",
              "    [theme=dark] .colab-df-convert:hover {\n",
              "      background-color: #434B5C;\n",
              "      box-shadow: 0px 1px 3px 1px rgba(0, 0, 0, 0.15);\n",
              "      filter: drop-shadow(0px 1px 2px rgba(0, 0, 0, 0.3));\n",
              "      fill: #FFFFFF;\n",
              "    }\n",
              "  </style>\n",
              "\n",
              "    <script>\n",
              "      const buttonEl =\n",
              "        document.querySelector('#df-1115481b-7b26-4bdb-962e-8020ccb76d64 button.colab-df-convert');\n",
              "      buttonEl.style.display =\n",
              "        google.colab.kernel.accessAllowed ? 'block' : 'none';\n",
              "\n",
              "      async function convertToInteractive(key) {\n",
              "        const element = document.querySelector('#df-1115481b-7b26-4bdb-962e-8020ccb76d64');\n",
              "        const dataTable =\n",
              "          await google.colab.kernel.invokeFunction('convertToInteractive',\n",
              "                                                    [key], {});\n",
              "        if (!dataTable) return;\n",
              "\n",
              "        const docLinkHtml = 'Like what you see? Visit the ' +\n",
              "          '<a target=\"_blank\" href=https://colab.research.google.com/notebooks/data_table.ipynb>data table notebook</a>'\n",
              "          + ' to learn more about interactive tables.';\n",
              "        element.innerHTML = '';\n",
              "        dataTable['output_type'] = 'display_data';\n",
              "        await google.colab.output.renderOutput(dataTable, element);\n",
              "        const docLink = document.createElement('div');\n",
              "        docLink.innerHTML = docLinkHtml;\n",
              "        element.appendChild(docLink);\n",
              "      }\n",
              "    </script>\n",
              "  </div>\n",
              "\n",
              "\n",
              "<div id=\"df-4155e83e-c966-4cbb-9a73-a2414da5f833\">\n",
              "  <button class=\"colab-df-quickchart\" onclick=\"quickchart('df-4155e83e-c966-4cbb-9a73-a2414da5f833')\"\n",
              "            title=\"Suggest charts\"\n",
              "            style=\"display:none;\">\n",
              "\n",
              "<svg xmlns=\"http://www.w3.org/2000/svg\" height=\"24px\"viewBox=\"0 0 24 24\"\n",
              "     width=\"24px\">\n",
              "    <g>\n",
              "        <path d=\"M19 3H5c-1.1 0-2 .9-2 2v14c0 1.1.9 2 2 2h14c1.1 0 2-.9 2-2V5c0-1.1-.9-2-2-2zM9 17H7v-7h2v7zm4 0h-2V7h2v10zm4 0h-2v-4h2v4z\"/>\n",
              "    </g>\n",
              "</svg>\n",
              "  </button>\n",
              "\n",
              "<style>\n",
              "  .colab-df-quickchart {\n",
              "      --bg-color: #E8F0FE;\n",
              "      --fill-color: #1967D2;\n",
              "      --hover-bg-color: #E2EBFA;\n",
              "      --hover-fill-color: #174EA6;\n",
              "      --disabled-fill-color: #AAA;\n",
              "      --disabled-bg-color: #DDD;\n",
              "  }\n",
              "\n",
              "  [theme=dark] .colab-df-quickchart {\n",
              "      --bg-color: #3B4455;\n",
              "      --fill-color: #D2E3FC;\n",
              "      --hover-bg-color: #434B5C;\n",
              "      --hover-fill-color: #FFFFFF;\n",
              "      --disabled-bg-color: #3B4455;\n",
              "      --disabled-fill-color: #666;\n",
              "  }\n",
              "\n",
              "  .colab-df-quickchart {\n",
              "    background-color: var(--bg-color);\n",
              "    border: none;\n",
              "    border-radius: 50%;\n",
              "    cursor: pointer;\n",
              "    display: none;\n",
              "    fill: var(--fill-color);\n",
              "    height: 32px;\n",
              "    padding: 0;\n",
              "    width: 32px;\n",
              "  }\n",
              "\n",
              "  .colab-df-quickchart:hover {\n",
              "    background-color: var(--hover-bg-color);\n",
              "    box-shadow: 0 1px 2px rgba(60, 64, 67, 0.3), 0 1px 3px 1px rgba(60, 64, 67, 0.15);\n",
              "    fill: var(--button-hover-fill-color);\n",
              "  }\n",
              "\n",
              "  .colab-df-quickchart-complete:disabled,\n",
              "  .colab-df-quickchart-complete:disabled:hover {\n",
              "    background-color: var(--disabled-bg-color);\n",
              "    fill: var(--disabled-fill-color);\n",
              "    box-shadow: none;\n",
              "  }\n",
              "\n",
              "  .colab-df-spinner {\n",
              "    border: 2px solid var(--fill-color);\n",
              "    border-color: transparent;\n",
              "    border-bottom-color: var(--fill-color);\n",
              "    animation:\n",
              "      spin 1s steps(1) infinite;\n",
              "  }\n",
              "\n",
              "  @keyframes spin {\n",
              "    0% {\n",
              "      border-color: transparent;\n",
              "      border-bottom-color: var(--fill-color);\n",
              "      border-left-color: var(--fill-color);\n",
              "    }\n",
              "    20% {\n",
              "      border-color: transparent;\n",
              "      border-left-color: var(--fill-color);\n",
              "      border-top-color: var(--fill-color);\n",
              "    }\n",
              "    30% {\n",
              "      border-color: transparent;\n",
              "      border-left-color: var(--fill-color);\n",
              "      border-top-color: var(--fill-color);\n",
              "      border-right-color: var(--fill-color);\n",
              "    }\n",
              "    40% {\n",
              "      border-color: transparent;\n",
              "      border-right-color: var(--fill-color);\n",
              "      border-top-color: var(--fill-color);\n",
              "    }\n",
              "    60% {\n",
              "      border-color: transparent;\n",
              "      border-right-color: var(--fill-color);\n",
              "    }\n",
              "    80% {\n",
              "      border-color: transparent;\n",
              "      border-right-color: var(--fill-color);\n",
              "      border-bottom-color: var(--fill-color);\n",
              "    }\n",
              "    90% {\n",
              "      border-color: transparent;\n",
              "      border-bottom-color: var(--fill-color);\n",
              "    }\n",
              "  }\n",
              "</style>\n",
              "\n",
              "  <script>\n",
              "    async function quickchart(key) {\n",
              "      const quickchartButtonEl =\n",
              "        document.querySelector('#' + key + ' button');\n",
              "      quickchartButtonEl.disabled = true;  // To prevent multiple clicks.\n",
              "      quickchartButtonEl.classList.add('colab-df-spinner');\n",
              "      try {\n",
              "        const charts = await google.colab.kernel.invokeFunction(\n",
              "            'suggestCharts', [key], {});\n",
              "      } catch (error) {\n",
              "        console.error('Error during call to suggestCharts:', error);\n",
              "      }\n",
              "      quickchartButtonEl.classList.remove('colab-df-spinner');\n",
              "      quickchartButtonEl.classList.add('colab-df-quickchart-complete');\n",
              "    }\n",
              "    (() => {\n",
              "      let quickchartButtonEl =\n",
              "        document.querySelector('#df-4155e83e-c966-4cbb-9a73-a2414da5f833 button');\n",
              "      quickchartButtonEl.style.display =\n",
              "        google.colab.kernel.accessAllowed ? 'block' : 'none';\n",
              "    })();\n",
              "  </script>\n",
              "</div>\n",
              "\n",
              "  <div id=\"id_d3321889-8ffc-44a0-a58e-07ec058961d4\">\n",
              "    <style>\n",
              "      .colab-df-generate {\n",
              "        background-color: #E8F0FE;\n",
              "        border: none;\n",
              "        border-radius: 50%;\n",
              "        cursor: pointer;\n",
              "        display: none;\n",
              "        fill: #1967D2;\n",
              "        height: 32px;\n",
              "        padding: 0 0 0 0;\n",
              "        width: 32px;\n",
              "      }\n",
              "\n",
              "      .colab-df-generate:hover {\n",
              "        background-color: #E2EBFA;\n",
              "        box-shadow: 0px 1px 2px rgba(60, 64, 67, 0.3), 0px 1px 3px 1px rgba(60, 64, 67, 0.15);\n",
              "        fill: #174EA6;\n",
              "      }\n",
              "\n",
              "      [theme=dark] .colab-df-generate {\n",
              "        background-color: #3B4455;\n",
              "        fill: #D2E3FC;\n",
              "      }\n",
              "\n",
              "      [theme=dark] .colab-df-generate:hover {\n",
              "        background-color: #434B5C;\n",
              "        box-shadow: 0px 1px 3px 1px rgba(0, 0, 0, 0.15);\n",
              "        filter: drop-shadow(0px 1px 2px rgba(0, 0, 0, 0.3));\n",
              "        fill: #FFFFFF;\n",
              "      }\n",
              "    </style>\n",
              "    <button class=\"colab-df-generate\" onclick=\"generateWithVariable('vendas')\"\n",
              "            title=\"Generate code using this dataframe.\"\n",
              "            style=\"display:none;\">\n",
              "\n",
              "  <svg xmlns=\"http://www.w3.org/2000/svg\" height=\"24px\"viewBox=\"0 0 24 24\"\n",
              "       width=\"24px\">\n",
              "    <path d=\"M7,19H8.4L18.45,9,17,7.55,7,17.6ZM5,21V16.75L18.45,3.32a2,2,0,0,1,2.83,0l1.4,1.43a1.91,1.91,0,0,1,.58,1.4,1.91,1.91,0,0,1-.58,1.4L9.25,21ZM18.45,9,17,7.55Zm-12,3A5.31,5.31,0,0,0,4.9,8.1,5.31,5.31,0,0,0,1,6.5,5.31,5.31,0,0,0,4.9,4.9,5.31,5.31,0,0,0,6.5,1,5.31,5.31,0,0,0,8.1,4.9,5.31,5.31,0,0,0,12,6.5,5.46,5.46,0,0,0,6.5,12Z\"/>\n",
              "  </svg>\n",
              "    </button>\n",
              "    <script>\n",
              "      (() => {\n",
              "      const buttonEl =\n",
              "        document.querySelector('#id_d3321889-8ffc-44a0-a58e-07ec058961d4 button.colab-df-generate');\n",
              "      buttonEl.style.display =\n",
              "        google.colab.kernel.accessAllowed ? 'block' : 'none';\n",
              "\n",
              "      buttonEl.onclick = () => {\n",
              "        google.colab.notebook.generateWithVariable('vendas');\n",
              "      }\n",
              "      })();\n",
              "    </script>\n",
              "  </div>\n",
              "\n",
              "    </div>\n",
              "  </div>\n"
            ],
            "application/vnd.google.colaboratory.intrinsic+json": {
              "type": "dataframe",
              "variable_name": "vendas"
            }
          },
          "metadata": {},
          "execution_count": 7
        }
      ]
    },
    {
      "cell_type": "code",
      "source": [
        "print(vendas.columns)\n"
      ],
      "metadata": {
        "colab": {
          "base_uri": "https://localhost:8080/"
        },
        "id": "taqvXFdENOz8",
        "outputId": "a13e4497-870b-4545-b046-b7acdc20b756"
      },
      "execution_count": null,
      "outputs": [
        {
          "output_type": "stream",
          "name": "stdout",
          "text": [
            "Index(['cod_pedido', 'regiao_pais', 'produto', 'valor', 'quantidade',\n",
            "       'valor_total_bruto', 'data', 'estado', 'formapagto',\n",
            "       'centro_distribuicao', 'responsavelpedido', 'valor_comissao',\n",
            "       'lucro_liquido', 'categoriaprod'],\n",
            "      dtype='object')\n"
          ]
        }
      ]
    },
    {
      "cell_type": "code",
      "source": [
        "vendas.columns = vendas.columns.str.strip()\n"
      ],
      "metadata": {
        "id": "wPCJZfAvv2MO"
      },
      "execution_count": null,
      "outputs": []
    },
    {
      "cell_type": "markdown",
      "source": [
        "# Calcula a média de preço da população para cada ano\n"
      ],
      "metadata": {
        "id": "X1qKOOPty7Vw"
      }
    },
    {
      "cell_type": "code",
      "source": [
        "media_preco_populacao_2019 = vendas_2019['valor'].mean()\n",
        "print(media_preco_populacao_2019)\n"
      ],
      "metadata": {
        "colab": {
          "base_uri": "https://localhost:8080/"
        },
        "id": "FKcAZZDNPuCj",
        "outputId": "03e88a8f-b8a4-41c3-d24b-067249b1596a"
      },
      "execution_count": null,
      "outputs": [
        {
          "output_type": "stream",
          "name": "stdout",
          "text": [
            "87.63387228287891\n"
          ]
        }
      ]
    },
    {
      "cell_type": "code",
      "source": [
        "media_preco_populacao_2020 = vendas_2020['valor'].mean()\n",
        "print(media_preco_populacao_2020)"
      ],
      "metadata": {
        "colab": {
          "base_uri": "https://localhost:8080/"
        },
        "id": "gDtqt8PDjPRY",
        "outputId": "27c82b52-7873-4dad-af4c-d099cffacf5e"
      },
      "execution_count": null,
      "outputs": [
        {
          "output_type": "stream",
          "name": "stdout",
          "text": [
            "97.91444100319028\n"
          ]
        }
      ]
    },
    {
      "cell_type": "code",
      "source": [
        "media_preco_populacao_2021 = vendas_2021['valor'].mean()\n",
        "print(media_preco_populacao_2021)\n"
      ],
      "metadata": {
        "colab": {
          "base_uri": "https://localhost:8080/"
        },
        "id": "wfpCr-AfRHX6",
        "outputId": "45eb4ca6-bb24-4469-af0b-2ebadbda682f"
      },
      "execution_count": null,
      "outputs": [
        {
          "output_type": "stream",
          "name": "stdout",
          "text": [
            "117.06263526290537\n"
          ]
        }
      ]
    },
    {
      "cell_type": "code",
      "source": [
        "media_preco_populacao_2022 = vendas_2022['valor'].mean()\n",
        "print(media_preco_populacao_2022)\n"
      ],
      "metadata": {
        "colab": {
          "base_uri": "https://localhost:8080/"
        },
        "id": "KTBTmU-tRfqx",
        "outputId": "247e976b-b4df-440a-907f-f08c976958ea"
      },
      "execution_count": null,
      "outputs": [
        {
          "output_type": "stream",
          "name": "stdout",
          "text": [
            "141.3502979443602\n"
          ]
        }
      ]
    },
    {
      "cell_type": "code",
      "source": [
        "print(media_preco_populacao_2019)\n",
        "print(media_preco_populacao_2020)\n",
        "print(media_preco_populacao_2021)\n",
        "print(media_preco_populacao_2022)"
      ],
      "metadata": {
        "colab": {
          "base_uri": "https://localhost:8080/"
        },
        "id": "tJo_OIwkhik8",
        "outputId": "fdc8fc54-2784-4cfc-c5df-5d164fc0eab9"
      },
      "execution_count": null,
      "outputs": [
        {
          "output_type": "stream",
          "name": "stdout",
          "text": [
            "87.63387228287891\n",
            "97.91444100319028\n",
            "117.06263526290537\n",
            "141.3502979443602\n"
          ]
        }
      ]
    },
    {
      "cell_type": "markdown",
      "source": [
        "# Calcula a média de preço para cada região"
      ],
      "metadata": {
        "id": "4HiFedufLRpl"
      }
    },
    {
      "cell_type": "code",
      "source": [
        "media_preco_regiao_2019 = vendas_2019.groupby('regiao_pais')['valor'].mean()\n",
        "print(media_preco_regiao_2019)"
      ],
      "metadata": {
        "colab": {
          "base_uri": "https://localhost:8080/"
        },
        "id": "CNLrlHiuLP-b",
        "outputId": "ab000254-f46c-4e96-9e2a-d21d982512f2"
      },
      "execution_count": null,
      "outputs": [
        {
          "output_type": "stream",
          "name": "stdout",
          "text": [
            "regiao_pais\n",
            "Centro Oeste    87.757116\n",
            "Nordeste        87.534934\n",
            "Norte           87.702111\n",
            "Sudeste         87.691986\n",
            "Sul             87.411540\n",
            "Name: valor, dtype: float64\n"
          ]
        }
      ]
    },
    {
      "cell_type": "code",
      "source": [
        "media_preco_regiao_2020 = vendas_2020.groupby('regiao_pais')['valor'].mean()\n",
        "print(media_preco_regiao_2020)"
      ],
      "metadata": {
        "colab": {
          "base_uri": "https://localhost:8080/"
        },
        "id": "MeHff7ENLQOm",
        "outputId": "66cb167b-a1dd-450b-b116-4da062f7c30f"
      },
      "execution_count": null,
      "outputs": [
        {
          "output_type": "stream",
          "name": "stdout",
          "text": [
            "regiao_pais\n",
            "Centro Oeste    97.946380\n",
            "Nordeste        97.864075\n",
            "Norte           97.983369\n",
            "Sudeste         97.942950\n",
            "Sul             97.764285\n",
            "Name: valor, dtype: float64\n"
          ]
        }
      ]
    },
    {
      "cell_type": "code",
      "source": [
        "media_preco_regiao_2021 = vendas_2021.groupby('regiao_pais')['valor'].mean()\n",
        "print(media_preco_regiao_2021)"
      ],
      "metadata": {
        "colab": {
          "base_uri": "https://localhost:8080/"
        },
        "id": "3Aquf0scLQim",
        "outputId": "f28393bf-4225-4be5-d02d-87e5c08ddb84"
      },
      "execution_count": null,
      "outputs": [
        {
          "output_type": "stream",
          "name": "stdout",
          "text": [
            "regiao_pais\n",
            "Centro Oeste    117.137380\n",
            "Nordeste        117.162430\n",
            "Norte           116.595505\n",
            "Sudeste         117.495657\n",
            "Sul             117.131357\n",
            "Name: valor, dtype: float64\n"
          ]
        }
      ]
    },
    {
      "cell_type": "code",
      "source": [
        "media_preco_regiao_2022 = vendas_2022.groupby('regiao_pais')['valor'].mean()\n",
        "print(media_preco_regiao_2022)"
      ],
      "metadata": {
        "colab": {
          "base_uri": "https://localhost:8080/"
        },
        "id": "5vLS3isULQk-",
        "outputId": "f05cf504-9bac-4c9b-910f-d45c9f98e6b0"
      },
      "execution_count": null,
      "outputs": [
        {
          "output_type": "stream",
          "name": "stdout",
          "text": [
            "regiao_pais\n",
            "Centro Oeste    141.638670\n",
            "Nordes                 NaN\n",
            "Nordeste        141.428571\n",
            "Norte           141.460561\n",
            "Sudeste         141.094571\n",
            "Sul             140.977619\n",
            "Name: valor, dtype: float64\n"
          ]
        }
      ]
    },
    {
      "cell_type": "code",
      "source": [
        "\n",
        "# Concatenar as tabelas\n",
        "media_preco_regiao = pd.concat([media_preco_regiao_2019, media_preco_regiao_2020, media_preco_regiao_2021, media_preco_regiao_2022], axis=1)\n",
        "\n",
        "# Renomear as colunas com os títulos correspondentes\n",
        "media_preco_regiao.columns = ['valor_2019', 'valor_2020', 'valor_2021', 'valor_2022']\n",
        "\n",
        "print(media_preco_regiao)\n"
      ],
      "metadata": {
        "colab": {
          "base_uri": "https://localhost:8080/"
        },
        "id": "UlBtEajvI-pE",
        "outputId": "014eb31f-0b24-4e9f-c682-e0b27b1aa222"
      },
      "execution_count": null,
      "outputs": [
        {
          "output_type": "stream",
          "name": "stdout",
          "text": [
            "              valor_2019  valor_2020  valor_2021  valor_2022\n",
            "regiao_pais                                                 \n",
            "Centro Oeste   87.757116   97.946380  117.137380  141.638670\n",
            "Nordeste       87.534934   97.864075  117.162430  141.428571\n",
            "Norte          87.702111   97.983369  116.595505  141.460561\n",
            "Sudeste        87.691986   97.942950  117.495657  141.094571\n",
            "Sul            87.411540   97.764285  117.131357  140.977619\n",
            "Nordes               NaN         NaN         NaN         NaN\n"
          ]
        }
      ]
    },
    {
      "cell_type": "markdown",
      "source": [
        "#Média de preço de alguma modalidade de pagamento e à média da população"
      ],
      "metadata": {
        "id": "jiqFM_hA_Igl"
      }
    },
    {
      "cell_type": "code",
      "source": [
        "vendas['data'] = pd.to_datetime(vendas['data'])"
      ],
      "metadata": {
        "id": "xyiedbw3-JAx",
        "colab": {
          "base_uri": "https://localhost:8080/"
        },
        "outputId": "be0e71b6-281d-4858-acfe-ebd0e1b90ca2"
      },
      "execution_count": null,
      "outputs": [
        {
          "output_type": "stream",
          "name": "stderr",
          "text": [
            "<ipython-input-20-7cc40f6ed5cf>:1: UserWarning: Parsing dates in DD/MM/YYYY format when dayfirst=False (the default) was specified. This may lead to inconsistently parsed dates! Specify a format to ensure consistent parsing.\n",
            "  vendas['data'] = pd.to_datetime(vendas['data'])\n"
          ]
        }
      ]
    },
    {
      "cell_type": "code",
      "source": [
        "vendas['ano'] = vendas['data'].dt.year"
      ],
      "metadata": {
        "id": "fGznnN_K-2yt"
      },
      "execution_count": null,
      "outputs": []
    },
    {
      "cell_type": "code",
      "source": [
        "media_preco_forma_pagamento = vendas.groupby(['ano', 'formapagto'])['valor'].mean()\n"
      ],
      "metadata": {
        "id": "06ng3Ogv-7JH"
      },
      "execution_count": null,
      "outputs": []
    },
    {
      "cell_type": "code",
      "source": [
        "print(media_preco_forma_pagamento)\n"
      ],
      "metadata": {
        "colab": {
          "base_uri": "https://localhost:8080/"
        },
        "id": "CU4kLkFm-_0-",
        "outputId": "4b53e53a-d3a8-4979-b515-98436130f3cd"
      },
      "execution_count": null,
      "outputs": [
        {
          "output_type": "stream",
          "name": "stdout",
          "text": [
            "ano     formapagto     \n",
            "2019.0  Boleto Bancário     87.761350\n",
            "        Cartão Crédito      86.224092\n",
            "        Cartão Débito       87.985218\n",
            "        Dinheiro            88.803202\n",
            "        Pix                 87.445296\n",
            "2020.0  Boleto Bancário     98.862464\n",
            "        Cartão Crédito      98.855476\n",
            "        Cartão Débito       94.052285\n",
            "        Dinheiro           100.287116\n",
            "        Pix                 97.556841\n",
            "2021.0  Boleto Bancário    115.626537\n",
            "        Cartão Crédito     117.691638\n",
            "        Cartão Débito      116.526580\n",
            "        Dinheiro           117.257712\n",
            "        Pix                118.182084\n",
            "2022.0  Boleto Bancário    138.740451\n",
            "        Cartão Crédito     145.887399\n",
            "        Cartão Débito      137.608406\n",
            "        Dinheiro           140.620028\n",
            "        Pix                143.884487\n",
            "Name: valor, dtype: float64\n"
          ]
        }
      ]
    },
    {
      "cell_type": "markdown",
      "source": [
        "#Analise de modalidade de pagamento médio da população"
      ],
      "metadata": {
        "id": "mqU5tTnhdAnk"
      }
    },
    {
      "cell_type": "code",
      "source": [
        "import matplotlib.pyplot as plt\n",
        "import seaborn as sns"
      ],
      "metadata": {
        "id": "LhkijFjtCpA7"
      },
      "execution_count": null,
      "outputs": []
    },
    {
      "cell_type": "code",
      "execution_count": null,
      "metadata": {
        "colab": {
          "base_uri": "https://localhost:8080/",
          "height": 524
        },
        "id": "Rw98loGLWnyu",
        "outputId": "adc15324-5517-446b-f3ce-c5866c2aef52"
      },
      "outputs": [
        {
          "output_type": "display_data",
          "data": {
            "text/plain": [
              "<Figure size 1000x600 with 1 Axes>"
            ],
            "image/png": "[encoded data removed]"
          },
          "metadata": {}
        }
      ],
      "source": [
        "# Dados fornecidos\n",
        "anos_formapagto = {\n",
        "    (2019, 'Boleto Bancário'): 87.761350,\n",
        "    (2019, 'Cartão Crédito'): 86.224092,\n",
        "    (2019, 'Cartão Débito'): 87.985218,\n",
        "    (2019, 'Dinheiro'): 88.803202,\n",
        "    (2019, 'Pix'): 87.445296,\n",
        "    (2020, 'Boleto Bancário'): 99.249975,\n",
        "    (2020, 'Cartão Crédito'): 97.923725,\n",
        "    (2020, 'Cartão Débito'): 94.577728,\n",
        "    (2020, 'Dinheiro'): 100.916170,\n",
        "    (2020, 'Pix'): 97.364406,\n",
        "    (2021, 'Boleto Bancário'): 116.066067,\n",
        "    (2021, 'Cartão Crédito'): 118.734018,\n",
        "    (2021, 'Cartão Débito'): 116.711709,\n",
        "    (2021, 'Dinheiro'): 115.719205,\n",
        "    (2021, 'Pix'): 116.545924,\n",
        "    (2022, 'Boleto Bancário'): 139.421762,\n",
        "    (2022, 'Cartão Crédito'): 147.046044,\n",
        "    (2022, 'Cartão Débito'): 139.784489,\n",
        "    (2022, 'Dinheiro'): 139.661669,\n",
        "    (2022, 'Pix'): 143.368393\n",
        "}\n",
        "\n",
        "# Separando dados\n",
        "anos = []\n",
        "formas_pagto = []\n",
        "valores = []\n",
        "\n",
        "for (ano, forma_pagto), valor in anos_formapagto.items():\n",
        "    anos.append(ano)\n",
        "    formas_pagto.append(forma_pagto)\n",
        "    valores.append(valor)\n",
        "\n",
        "# Plotando o gráfico\n",
        "plt.figure(figsize=(10, 6))\n",
        "sns.barplot(x=anos, y=valores, hue=formas_pagto)\n",
        "plt.xlabel('Ano')\n",
        "plt.ylabel('Valor Médio')\n",
        "plt.title('Média de preço por forma de pagamento ao longo dos anos')\n",
        "plt.legend(title='Forma de Pagamento', bbox_to_anchor=(1, 1), loc='upper left')\n",
        "plt.show()\n"
      ]
    },
    {
      "cell_type": "code",
      "source": [
        "#Realiza o teste de hipóteses para comparar as médias de preço da população com as médias de preço das regiões e modalidades de pagamento\n"
      ],
      "metadata": {
        "id": "ly1zENAG-ATD"
      },
      "execution_count": null,
      "outputs": []
    },
    {
      "cell_type": "code",
      "source": [
        "populacao = {\n",
        "    \"Região\": [\"Sudeste\", \"Região Nordeste\", \"Região Sul\", \"Região Norte\", \"Região Centro-Oeste\"],\n",
        "    \"População\": [84847187, 54644582, 29933315, 17349619, 16287809]\n",
        "}\n",
        "populacao_df = pd.DataFrame(populacao)\n"
      ],
      "metadata": {
        "id": "u3mJ9P-qHEEu"
      },
      "execution_count": null,
      "outputs": []
    },
    {
      "cell_type": "code",
      "source": [
        "preco_metodo_pagamento_df = pd.DataFrame(list(anos_formapagto.items()), columns=['Ano_FormaPagamento', 'Preco'])"
      ],
      "metadata": {
        "id": "R7bpsZ6LHK-y"
      },
      "execution_count": null,
      "outputs": []
    },
    {
      "cell_type": "code",
      "source": [
        "vendas_populacao = vendas.merge(populacao_df, left_on='regiao_pais', right_on='Região')"
      ],
      "metadata": {
        "id": "gF_ZCWwqv_pS"
      },
      "execution_count": null,
      "outputs": []
    },
    {
      "cell_type": "code",
      "source": [
        "vendas_populacao['Preco_por_Habitante'] = vendas_populacao['valor_total_bruto'] / vendas_populacao['População']"
      ],
      "metadata": {
        "id": "f1boB35NwGBq"
      },
      "execution_count": null,
      "outputs": []
    },
    {
      "cell_type": "code",
      "source": [
        "preco_metodo_pagamento_df['2019', '2020', '2021', '2022'] = preco_metodo_pagamento_df['Ano_FormaPagamento'].apply(lambda x: x[0])\n",
        "preco_metodo_pagamento_df['FormaPagamento'] = preco_metodo_pagamento_df['Ano_FormaPagamento'].apply(lambda x: x[1])\n",
        "preco_metodo_pagamento_com_populacao = preco_metodo_pagamento_df.merge(populacao_df, left_on='FormaPagamento', right_on='Região')\n",
        "preco_metodo_pagamento_com_populacao['Preco_por_Habitante'] = preco_metodo_pagamento_com_populacao['Preco'] / preco_metodo_pagamento_com_populacao['População']"
      ],
      "metadata": {
        "id": "aIeLUQwJwKgJ"
      },
      "execution_count": null,
      "outputs": []
    },
    {
      "cell_type": "code",
      "source": [
        "print(\"Preço médio por habitante para cada região:\")\n",
        "print(vendas_populacao[['regiao_pais', 'Preco_por_Habitante']].groupby('regiao_pais').mean())"
      ],
      "metadata": {
        "colab": {
          "base_uri": "https://localhost:8080/"
        },
        "id": "OcfK1VFGwwJR",
        "outputId": "c11e7a6f-75fd-48ed-9aab-15d305fa4858"
      },
      "execution_count": null,
      "outputs": [
        {
          "output_type": "stream",
          "name": "stdout",
          "text": [
            "Preço médio por habitante para cada região:\n",
            "             Preco_por_Habitante\n",
            "regiao_pais                     \n",
            "Sudeste                 0.000004\n"
          ]
        }
      ]
    },
    {
      "cell_type": "code",
      "source": [
        "print(\"\\nPreço médio por habitante para cada método de pagamento:\")\n",
        "print(preco_metodo_pagamento_com_populacao[['FormaPagamento', 'Ano', 'Preco_por_Habitante']].groupby(['FormaPagamento', 'Ano']).mean())"
      ],
      "metadata": {
        "colab": {
          "base_uri": "https://localhost:8080/"
        },
        "id": "Id4ZsBvOw-xY",
        "outputId": "2dbd6df1-9538-439f-f567-051cb21958be"
      },
      "execution_count": null,
      "outputs": [
        {
          "output_type": "stream",
          "name": "stdout",
          "text": [
            "\n",
            "Preço médio por habitante para cada método de pagamento:\n",
            "Empty DataFrame\n",
            "Columns: [Preco_por_Habitante]\n",
            "Index: []\n"
          ]
        }
      ]
    }
  ]
}